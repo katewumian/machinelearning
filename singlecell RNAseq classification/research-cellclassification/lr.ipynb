{
 "cells": [
  {
   "cell_type": "code",
   "execution_count": 4,
   "metadata": {},
   "outputs": [
    {
     "name": "stdout",
     "output_type": "stream",
     "text": [
      "21389\n",
      "50\n"
     ]
    }
   ],
   "source": [
    "from sklearn.ensemble import RandomForestClassifier\n",
    "from sklearn.model_selection import cross_val_score\n",
    "from sklearn.metrics import accuracy_score as ACCS\n",
    "import pandas as pd\n",
    "from sklearn import decomposition\n",
    "from sklearn.ensemble import AdaBoostClassifier\n",
    "from sklearn.tree import DecisionTreeClassifier \n",
    "from sklearn.metrics import confusion_matrix as CM\n",
    "\n",
    "#Open the original training and testing data\n",
    "store_test = pd.HDFStore('test_data.h5')\n",
    "store_train = pd.HDFStore('train_data.h5')\n",
    "feature_matrix_dataframe_test = store_test['rpkm']\n",
    "feature_matrix_dataframe_train =  store_train['rpkm']\n",
    "labels_series_test = store_test['labels']\n",
    "l_test = labels_series_test.values#label of testing set\n",
    "labels_series_train = store_train['labels']\n",
    "l_train= labels_series_train.values#label of the training set\n",
    "\n",
    "new_train = pd.read_csv('data/new_train.csv')\n",
    "new_test = pd.read_csv('data/new_test.csv')\n",
    "new_train=  new_train.iloc[:,1:]\n",
    "new_test=  new_test.iloc[:,1:]\n",
    "\n",
    "pca = decomposition.PCA(n_components=50)\n",
    "new_train_afterPCA = pca.fit_transform(new_train.values)\n",
    "new_test_afterPCA = pca.transform(new_test.values)\n",
    "# 降维\n",
    "new_train_afterPCA_da = pd.DataFrame(new_train_afterPCA, index=new_train.index.values)\n",
    "new_test_afterPCA_da = pd.DataFrame(new_test_afterPCA, index=new_test.index.values)\n",
    "print(new_train_afterPCA_da.shape[0])\n",
    "print(new_train_afterPCA_da.shape[1])\n"
   ]
  },
  {
   "cell_type": "code",
   "execution_count": 5,
   "metadata": {},
   "outputs": [
    {
     "name": "stdout",
     "output_type": "stream",
     "text": [
      "0.5019264448336253\n",
      "0.7823647669362757\n"
     ]
    },
    {
     "name": "stderr",
     "output_type": "stream",
     "text": [
      "c:\\users\\sheaw\\appdata\\local\\programs\\python\\python37\\lib\\site-packages\\sklearn\\linear_model\\_sag.py:330: ConvergenceWarning: The max_iter was reached which means the coef_ did not converge\n",
      "  \"the coef_ did not converge\", ConvergenceWarning)\n"
     ]
    }
   ],
   "source": [
    "from sklearn.linear_model import LogisticRegression\n",
    "\n",
    "clf = LogisticRegression(solver = 'sag', multi_class = 'multinomial')\n",
    "clf.fit(new_train_afterPCA_da, l_train)\n",
    "pred_rfc = clf.predict(new_test_afterPCA_da)\n",
    "score=ACCS(l_test, pred_rfc)\n",
    "print(score)\n",
    "pred_rfc1 = clf.predict(new_train_afterPCA_da)\n",
    "score1=ACCS(l_train, pred_rfc1)\n",
    "print(score1)"
   ]
  },
  {
   "cell_type": "code",
   "execution_count": 6,
   "metadata": {},
   "outputs": [
    {
     "name": "stdout",
     "output_type": "stream",
     "text": [
      "0.5425569176882662\n",
      "0.8126139604469588\n"
     ]
    },
    {
     "name": "stderr",
     "output_type": "stream",
     "text": [
      "c:\\users\\sheaw\\appdata\\local\\programs\\python\\python37\\lib\\site-packages\\sklearn\\linear_model\\_sag.py:330: ConvergenceWarning: The max_iter was reached which means the coef_ did not converge\n",
      "  \"the coef_ did not converge\", ConvergenceWarning)\n"
     ]
    }
   ],
   "source": [
    "from sklearn.linear_model import LogisticRegression\n",
    "\n",
    "clf = LogisticRegression(solver = 'sag', multi_class = 'multinomial',max_iter=200)\n",
    "clf.fit(new_train_afterPCA_da, l_train)\n",
    "pred_rfc = clf.predict(new_test_afterPCA_da)\n",
    "score=ACCS(l_test, pred_rfc)\n",
    "print(score)\n",
    "pred_rfc1 = clf.predict(new_train_afterPCA_da)\n",
    "score1=ACCS(l_train, pred_rfc1)\n",
    "print(score1)"
   ]
  },
  {
   "cell_type": "code",
   "execution_count": 8,
   "metadata": {},
   "outputs": [
    {
     "name": "stdout",
     "output_type": "stream",
     "text": [
      "0.5453590192644483\n",
      "0.8487540324465846\n"
     ]
    },
    {
     "name": "stderr",
     "output_type": "stream",
     "text": [
      "c:\\users\\sheaw\\appdata\\local\\programs\\python\\python37\\lib\\site-packages\\sklearn\\linear_model\\_sag.py:330: ConvergenceWarning: The max_iter was reached which means the coef_ did not converge\n",
      "  \"the coef_ did not converge\", ConvergenceWarning)\n"
     ]
    }
   ],
   "source": [
    "from sklearn.linear_model import LogisticRegression\n",
    "\n",
    "clf = LogisticRegression(solver = 'sag', multi_class = 'multinomial',max_iter=500)\n",
    "clf.fit(new_train_afterPCA_da, l_train)\n",
    "pred_rfc = clf.predict(new_test_afterPCA_da)\n",
    "score=ACCS(l_test, pred_rfc)\n",
    "print(score)\n",
    "pred_rfc1 = clf.predict(new_train_afterPCA_da)\n",
    "score1=ACCS(l_train, pred_rfc1)\n",
    "print(score1)"
   ]
  },
  {
   "cell_type": "code",
   "execution_count": 9,
   "metadata": {},
   "outputs": [
    {
     "name": "stdout",
     "output_type": "stream",
     "text": [
      "0.5292469352014011\n",
      "0.8682967880686334\n"
     ]
    },
    {
     "name": "stderr",
     "output_type": "stream",
     "text": [
      "c:\\users\\sheaw\\appdata\\local\\programs\\python\\python37\\lib\\site-packages\\sklearn\\linear_model\\_sag.py:330: ConvergenceWarning: The max_iter was reached which means the coef_ did not converge\n",
      "  \"the coef_ did not converge\", ConvergenceWarning)\n"
     ]
    }
   ],
   "source": [
    "from sklearn.linear_model import LogisticRegression\n",
    "\n",
    "clf = LogisticRegression(solver = 'sag', multi_class = 'multinomial',max_iter=1000)\n",
    "clf.fit(new_train_afterPCA_da, l_train)\n",
    "pred_rfc = clf.predict(new_test_afterPCA_da)\n",
    "score=ACCS(l_test, pred_rfc)\n",
    "print(score)\n",
    "pred_rfc1 = clf.predict(new_train_afterPCA_da)\n",
    "score1=ACCS(l_train, pred_rfc1)\n",
    "print(score1)"
   ]
  },
  {
   "cell_type": "code",
   "execution_count": 7,
   "metadata": {},
   "outputs": [
    {
     "name": "stdout",
     "output_type": "stream",
     "text": [
      "0.4903677758318739\n",
      "0.8832577493103932\n"
     ]
    },
    {
     "name": "stderr",
     "output_type": "stream",
     "text": [
      "C:\\ProgramData\\Anaconda3\\lib\\site-packages\\sklearn\\linear_model\\_sag.py:329: ConvergenceWarning: The max_iter was reached which means the coef_ did not converge\n",
      "  warnings.warn(\"The max_iter was reached which means \"\n"
     ]
    }
   ],
   "source": [
    "from sklearn.linear_model import LogisticRegression\n",
    "\n",
    "clf = LogisticRegression(solver = 'sag', multi_class = 'multinomial',max_iter=2000)\n",
    "clf.fit(new_train_afterPCA_da, l_train)\n",
    "pred_rfc = clf.predict(new_test_afterPCA_da)\n",
    "score=ACCS(l_test, pred_rfc)\n",
    "print(score)\n",
    "pred_rfc1 = clf.predict(new_train_afterPCA_da)\n",
    "score1=ACCS(l_train, pred_rfc1)\n",
    "print(score1)"
   ]
  },
  {
   "cell_type": "code",
   "execution_count": null,
   "metadata": {},
   "outputs": [],
   "source": []
  }
 ],
 "metadata": {
  "kernelspec": {
   "display_name": "Python 3",
   "language": "python",
   "name": "python3"
  },
  "language_info": {
   "codemirror_mode": {
    "name": "ipython",
    "version": 3
   },
   "file_extension": ".py",
   "mimetype": "text/x-python",
   "name": "python",
   "nbconvert_exporter": "python",
   "pygments_lexer": "ipython3",
   "version": "3.7.4"
  }
 },
 "nbformat": 4,
 "nbformat_minor": 4
}

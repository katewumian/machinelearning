{
 "cells": [
  {
   "cell_type": "code",
   "execution_count": null,
   "metadata": {},
   "outputs": [],
   "source": [
    "import pandas as pd\n",
    "\n",
    "# open up a datastore\n",
    "store = pd.HDFStore('train_data.h5')\n",
    "store1 =pd.HDFStore('test_data.h5')\n",
    "\n",
    "# Get the feature matrix (samples and their features)\n",
    "feature_matrix_dataframe1 = store1['rpkm'] #带1的为test\n",
    "feature_matrix_dataframe = store['rpkm'] \n",
    "\n",
    "# Get the labels corresponding to each of the samples in the feature matrix\n",
    "labels_series = store['labels']\n",
    "labels_series1 = store1['labels']  #test标签\n",
    "\n",
    "feature_matrix_dataframe1.insert(0,'labels',labels_series1.values)  #第一行插入labels\n",
    "print(feature_matrix_dataframe1)\n",
    "\n",
    "\n",
    "store.close()"
   ]
  }
 ],
 "metadata": {
  "kernelspec": {
   "display_name": "Python 3",
   "language": "python",
   "name": "python3"
  },
  "language_info": {
   "codemirror_mode": {
    "name": "ipython",
    "version": 3
   },
   "file_extension": ".py",
   "mimetype": "text/x-python",
   "name": "python",
   "nbconvert_exporter": "python",
   "pygments_lexer": "ipython3",
   "version": "3.7.4"
  }
 },
 "nbformat": 4,
 "nbformat_minor": 4
}

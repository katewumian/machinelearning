{
 "cells": [
  {
   "cell_type": "code",
   "execution_count": 24,
   "metadata": {},
   "outputs": [],
   "source": [
    "import seaborn as sns\n",
    "from sklearn.datasets import load_iris\n",
    "import pandas as pd\n",
    "import sklearn as sk\n",
    "import numpy as np\n",
    "from sklearn.feature_selection import VarianceThreshold  # 导入python的相关模块\n",
    "from sklearn.ensemble import RandomForestClassifier\n",
    "from sklearn.model_selection import cross_val_score\n",
    "\n",
    "from sklearn.metrics import accuracy_score as ACCS\n",
    "import pandas as pd\n",
    "from sklearn import tree\n",
    "from sklearn import decomposition\n",
    "from sklearn.metrics import confusion_matrix\n",
    "import matplotlib.pyplot as plt\n",
    "import numpy as np\n",
    "from sklearn.metrics import precision_score\n",
    "\n",
    "# open up a datastore\n",
    "store = pd.HDFStore('train_data.h5')\n",
    "store1 = pd.HDFStore('test_data.h5')\n",
    "# Get the feature matrix (samples and their features)\n",
    "feature_matrix_dataframe = store['rpkm']  # train的数据框架\n",
    "feature_matrix_dataframe_test = store1['rpkm']  # test的数据框架\n",
    "\n",
    "all_in = pd.concat([feature_matrix_dataframe, feature_matrix_dataframe_test], axis=0, join='inner')\n",
    "\n",
    "name = all_in.index.values  # 提取行标签\n",
    "\n",
    "data = all_in.values  # 提取数据丢掉标签（总和数据）\n",
    "sel = VarianceThreshold(threshold=20)  # 表示剔除特征的方差大于阈值15的feature\n",
    "new = sel.fit_transform(data)  # 返回的结果为选择的特征矩阵\n",
    "new_all = pd.DataFrame(new, index=name)  # 得到只剩下feature的新数据\n",
    "a = new_all.iloc[:5, 3]\n",
    "new_train = new_all.iloc[:21389, ]  # 新的train数据\n",
    "new_test = new_all.iloc[21389:, ]  # 新的test数据\n",
    "\n",
    "# 注意，新数据的gene序列（columns）被抹掉了，但是这不重要\n",
    "# 唯一的问题是所有的数据一起提取方差了\n",
    "\n",
    "\n",
    "\n"
   ]
  },
  {
   "cell_type": "code",
   "execution_count": 25,
   "metadata": {},
   "outputs": [],
   "source": [
    "pca = decomposition.PCA(n_components=50)\n",
    "new_train_afterPCA = pca.fit_transform(new_train.values)\n",
    "new_test_afterPCA = pca.transform(new_test.values)\n",
    "# 降维\n",
    "new_train_afterPCA_da = pd.DataFrame(new_train_afterPCA, index=new_train.index.values)\n",
    "new_test_afterPCA_da = pd.DataFrame(new_test_afterPCA, index=new_test.index.values)\n",
    "\n",
    "labels_series1 = store1['labels']\n",
    "l1 = labels_series1.values  # l1是test data\n",
    "# print(l1)\n",
    "# print(type(l1))\n",
    "# print(l1.shape)\n",
    "labels_series = store['labels']\n",
    "l = labels_series.values  # l是train data\n",
    "\n"
   ]
  },
  {
   "cell_type": "code",
   "execution_count": 26,
   "metadata": {},
   "outputs": [
    {
     "name": "stdout",
     "output_type": "stream",
     "text": [
      "Accuracy_Score: 0.43117338003502625\n"
     ]
    }
   ],
   "source": [
    "clf = RandomForestClassifier(min_samples_leaf=55, n_estimators=150, max_depth=30, n_jobs=2, random_state=0)\n",
    "\n",
    "clf.fit(new_train_afterPCA_da, l)\n",
    "# print(new_test_afterPCA_da)\n",
    "# print(type(new_test_afterPCA_da))\n",
    "# print(new_test_afterPCA_da.shape)\n",
    "\n",
    "pred_rfc = clf.predict(new_test_afterPCA_da)\n",
    "\n",
    "# print(pred_rfc)\n",
    "# print(type(pred_rfc))\n",
    "# print(pred_rfc.shape)\n",
    "\n",
    "score = ACCS(l1, pred_rfc)\n",
    "print(\"Accuracy_Score: \" + str(score))\n"
   ]
  },
  {
   "cell_type": "code",
   "execution_count": 38,
   "metadata": {},
   "outputs": [
    {
     "name": "stdout",
     "output_type": "stream",
     "text": [
      "Confusion matrix, without normalization\n",
      "[[ 0  0  0 ... 10  0  0]\n",
      " [ 0  0  0 ...  0  0  0]\n",
      " [ 0  0  0 ...  0  0  0]\n",
      " ...\n",
      " [ 0  0  0 ...  0  0  0]\n",
      " [ 0  0  0 ...  0 39  0]\n",
      " [ 0  0  0 ...  0  0  0]]\n",
      "Normalized confusion matrix\n",
      "[[0.   0.   0.   ... 1.   0.   0.  ]\n",
      " [0.   0.   0.   ... 0.   0.   0.  ]\n",
      " [ nan  nan  nan ...  nan  nan  nan]\n",
      " ...\n",
      " [ nan  nan  nan ...  nan  nan  nan]\n",
      " [0.   0.   0.   ... 0.   0.93 0.  ]\n",
      " [ nan  nan  nan ...  nan  nan  nan]]\n",
      "0 43 1.0\n",
      "1 3 0.75\n",
      "3 3 0.6061452513966481\n",
      "7 14 0.7272727272727273\n",
      "20 20 0.9722222222222222\n",
      "23 23 0.7283236994219653\n",
      "24 24 1.0\n",
      "30 37 0.6240601503759399\n",
      "32 26 0.5333333333333333\n",
      "35 23 0.5526315789473685\n",
      "36 36 0.64\n",
      "40 22 0.7839506172839507\n",
      "42 42 0.6371681415929203\n",
      "44 44 0.9285714285714286\n"
     ]
    },
    {
     "name": "stderr",
     "output_type": "stream",
     "text": [
      "c:\\users\\sheaw\\appdata\\local\\programs\\python\\python37\\lib\\site-packages\\ipykernel_launcher.py:49: RuntimeWarning: invalid value encountered in true_divide\n"
     ]
    },
    {
     "data": {
      "image/png": "[encoded data removed]",
      "text/plain": [
       "<Figure size 432x288 with 2 Axes>"
      ]
     },
     "metadata": {
      "needs_background": "light"
     },
     "output_type": "display_data"
    },
    {
     "data": {
      "image/png": "[encoded data removed]",
      "text/plain": [
       "<Figure size 432x288 with 2 Axes>"
      ]
     },
     "metadata": {
      "needs_background": "light"
     },
     "output_type": "display_data"
    }
   ],
   "source": [
    "# #labels表示你不同类别的代号，比如这里的demo中有13个类别\n",
    "# labels = ['A', 'B', 'C', 'F', 'G', 'H', 'I', 'J', 'K', 'L', 'M', 'N', 'O']\n",
    "\n",
    "\n",
    "cell_labels=[]\n",
    "for item in labels_series.values:\n",
    "    if item in cell_labels:\n",
    "        continue\n",
    "    else:\n",
    "        cell_labels.append(item)\n",
    "\n",
    "# print(cell_labels)\n",
    "# labelss = pd.read_csv('cell_type.csv', index_col=False).values\n",
    "\n",
    "'''\n",
    "具体解释一下re_label.txt和pr_label.txt这两个文件，比如你有100个样本\n",
    "去做预测，这100个样本中一共有10类，那么首先这100个样本的真实label你一定\n",
    "是知道的，一共有10个类别，用[0,9]表示，则re_label.txt文件中应该有100\n",
    "个数字，第n个数字代表的是第n个样本的真实label（100个样本自然就有100个\n",
    "数字）。\n",
    "同理，pr_label.txt里面也应该有1--个数字，第n个数字代表的是第n个样本经过\n",
    "你训练好的网络预测出来的预测label。\n",
    "这样，re_label.txt和pr_label.txt这两个文件分别代表了你样本的真实label和预测label，然后读到y_true和y_pred这两个变量中计算后面的混淆矩阵。当然，不一定非要使用这种txt格式的文件读入的方式，只要你最后将你的真实\n",
    "label和预测label分别保存到y_true和y_pred这两个变量中即可。\n",
    "'''\n",
    "y_true = l1\n",
    "y_pred = pred_rfc\n",
    "def plot_confusion_matrix(cm, title='Confusion matrix', cmap=plt.cm.Blues):\n",
    "    plt.imshow(cm, interpolation='nearest', cmap=cmap)\n",
    "    plt.title(title)\n",
    "    plt.colorbar()\n",
    "    # tick_marks = np.arange(len(labelss))\n",
    "    # plt.xticks(tick_marks, labelss, rotation=45)\n",
    "    # plt.yticks(tick_marks, labelss)\n",
    "    plt.tight_layout()\n",
    "    plt.ylabel('True label')\n",
    "    plt.xlabel('Predicted label')\n",
    "\n",
    "# Compute confusion matrix\n",
    "cm = confusion_matrix(y_true, y_pred, labels=cell_labels)\n",
    "np.set_printoptions(precision=2)\n",
    "print('Confusion matrix, without normalization')\n",
    "print(cm)\n",
    "plt.figure()\n",
    "plot_confusion_matrix(cm)\n",
    "\n",
    "# Normalize the confusion matrix by row (i.e by the number of samples\n",
    "# in each class)\n",
    "cm_normalized = cm.astype('float') / cm.sum(axis=1)[:, np.newaxis]\n",
    "print('Normalized confusion matrix')\n",
    "print(cm_normalized)\n",
    "\n",
    "[rows, cols] = cm_normalized.shape\n",
    "\n",
    "for i in range(rows):\n",
    "    for j in range(cols):\n",
    "        if cm_normalized[i, j] > 0.5:\n",
    "            print(i, j , cm_normalized[i, j])\n",
    "\n",
    "plt.figure()\n",
    "plot_confusion_matrix(cm_normalized, title='Normalized confusion matrix')\n",
    "\n",
    "plt.savefig('confusion_matrix.png', format='png')\n",
    "plt.show()\n"
   ]
  },
  {
   "cell_type": "code",
   "execution_count": 28,
   "metadata": {},
   "outputs": [
    {
     "name": "stdout",
     "output_type": "stream",
     "text": [
      "[ 1.  1. nan  1. nan  1. nan  1.  1. nan nan  1. nan nan  1. nan nan nan\n",
      "  1.  1.  1.  1. nan  1.  1. nan nan nan nan nan  1. nan  1. nan nan  1.\n",
      "  1. nan nan nan  1. nan  1. nan  1. nan]\n",
      "\n",
      "\n"
     ]
    }
   ],
   "source": [
    "print(np.sum(cm_normalized, axis=1))\n",
    "\n",
    "\n",
    "print()\n",
    "print()"
   ]
  },
  {
   "cell_type": "code",
   "execution_count": 29,
   "metadata": {},
   "outputs": [
    {
     "data": {
      "text/plain": [
       "array([ 1.,  1., nan,  1., nan,  1., nan,  1.,  1., nan, nan,  1., nan,\n",
       "       nan,  1., nan, nan, nan,  1.,  1.,  1.,  1., nan,  1.,  1., nan,\n",
       "       nan, nan, nan, nan,  1., nan,  1., nan, nan,  1.,  1., nan, nan,\n",
       "       nan,  1., nan,  1., nan,  1., nan])"
      ]
     },
     "execution_count": 29,
     "metadata": {},
     "output_type": "execute_result"
    }
   ],
   "source": [
    "np.sum(cm_normalized, axis=1)"
   ]
  },
  {
   "cell_type": "code",
   "execution_count": 42,
   "metadata": {
    "scrolled": true
   },
   "outputs": [
    {
     "name": "stdout",
     "output_type": "stream",
     "text": [
      "[1.   0.75  nan 0.61  nan 0.47  nan 0.73 0.46  nan  nan 0.2   nan  nan\n",
      " 0.38  nan  nan  nan 0.25 0.4  0.97 0.48  nan 0.73 1.    nan  nan  nan\n",
      "  nan  nan 0.62  nan 0.53  nan  nan 0.55 0.64  nan  nan  nan 0.78  nan\n",
      " 0.64  nan 0.93  nan]\n",
      "[43  3  0  3  0 22  0 14 22  0  0  3  0  0 14  0  0  0 42  9 20 37  0 23\n",
      " 24  0  0  0  0  0 37  0 26  0  0 23 36  0  0  0 22  0 42  0 44  0]\n",
      "(array([ 3, 14, 20, 23, 24, 36, 42, 44], dtype=int64), array([ 3, 14, 20, 23, 24, 36, 42, 44], dtype=int64))\n"
     ]
    }
   ],
   "source": [
    "print(np.max(cm_normalized,axis=1)) #每列最大\n",
    "print(np.argmax(cm_normalized, axis=1))#每列最大的元素的位置\n",
    "\n",
    "print(np.where(cm_normalized==np.max(cm_normalized, axis=1)))"
   ]
  },
  {
   "cell_type": "code",
   "execution_count": null,
   "metadata": {},
   "outputs": [],
   "source": [
    "store.close()\n",
    "store1.close()"
   ]
  }
 ],
 "metadata": {
  "kernelspec": {
   "display_name": "Python 3",
   "language": "python",
   "name": "python3"
  },
  "language_info": {
   "codemirror_mode": {
    "name": "ipython",
    "version": 3
   },
   "file_extension": ".py",
   "mimetype": "text/x-python",
   "name": "python",
   "nbconvert_exporter": "python",
   "pygments_lexer": "ipython3",
   "version": "3.7.4"
  }
 },
 "nbformat": 4,
 "nbformat_minor": 4
}

{
 "cells": [
  {
   "cell_type": "code",
   "execution_count": 1,
   "metadata": {},
   "outputs": [
    {
     "name": "stdout",
     "output_type": "stream",
     "text": [
      "21389\n",
      "50\n"
     ]
    }
   ],
   "source": [
    "from sklearn.ensemble import RandomForestClassifier\n",
    "from sklearn.model_selection import cross_val_score\n",
    "from sklearn.metrics import accuracy_score as ACCS\n",
    "import pandas as pd\n",
    "from sklearn import decomposition\n",
    "from sklearn.ensemble import AdaBoostClassifier\n",
    "from sklearn.tree import DecisionTreeClassifier \n",
    "from sklearn.metrics import confusion_matrix as CM\n",
    "\n",
    "#Open the original training and testing data\n",
    "store_test = pd.HDFStore('C:/ftp/ml_10701_ps5_data.tar/test_data.h5')\n",
    "store_train = pd.HDFStore('C:/ftp/ml_10701_ps5_data.tar/train_data.h5')\n",
    "feature_matrix_dataframe_test = store_test['rpkm']\n",
    "feature_matrix_dataframe_train =  store_train['rpkm']\n",
    "labels_series_test = store_test['labels']\n",
    "l_test = labels_series_test.values#label of testing set\n",
    "labels_series_train = store_train['labels']\n",
    "l_train= labels_series_train.values#label of the training set\n",
    "\n",
    "new_train = pd.read_csv('new_train.csv')\n",
    "new_test = pd.read_csv('new_test.csv')\n",
    "new_train=  new_train.iloc[:,1:]\n",
    "new_test=  new_test.iloc[:,1:]\n",
    "\n",
    "pca = decomposition.PCA(n_components=50)\n",
    "new_train_afterPCA = pca.fit_transform(new_train.values)\n",
    "new_test_afterPCA = pca.transform(new_test.values)\n",
    "# 降维\n",
    "new_train_afterPCA_da = pd.DataFrame(new_train_afterPCA, index=new_train.index.values)\n",
    "new_test_afterPCA_da = pd.DataFrame(new_test_afterPCA, index=new_test.index.values)\n",
    "print(new_train_afterPCA_da.shape[0])\n",
    "print(new_train_afterPCA_da.shape[1])\n"
   ]
  },
  {
   "cell_type": "code",
   "execution_count": 2,
   "metadata": {},
   "outputs": [
    {
     "name": "stdout",
     "output_type": "stream",
     "text": [
      "0.2192644483362522\n",
      "0.4762728505306466\n"
     ]
    }
   ],
   "source": [
    "clf = AdaBoostClassifier(DecisionTreeClassifier(max_depth=3),n_estimators=1000,learning_rate =1)\n",
    "clf.fit(new_train_afterPCA_da, l_train)\n",
    "pred_rfc = clf.predict(new_test_afterPCA_da)\n",
    "score=ACCS(l_test, pred_rfc)\n",
    "print(score)\n",
    "pred_rfc1 = clf.predict(new_train_afterPCA_da)\n",
    "score1=ACCS(l_train, pred_rfc1)\n",
    "print(score1)"
   ]
  },
  {
   "cell_type": "code",
   "execution_count": 3,
   "metadata": {},
   "outputs": [
    {
     "name": "stdout",
     "output_type": "stream",
     "text": [
      "0.087215411558669\n"
     ]
    }
   ],
   "source": []
  },
  {
   "cell_type": "code",
   "execution_count": 4,
   "metadata": {},
   "outputs": [
    {
     "name": "stdout",
     "output_type": "stream",
     "text": [
      "0.12539404553415062\n"
     ]
    }
   ],
   "source": [
    "clf = AdaBoostClassifier(DecisionTreeClassifier(max_depth=3),n_estimators=1,learning_rate =10)\n",
    "clf.fit(new_train, l_train)\n",
    "pred_rfc = clf.predict(new_test)\n",
    "score=ACCS(l_test, pred_rfc)\n",
    "print(score)"
   ]
  },
  {
   "cell_type": "code",
   "execution_count": 5,
   "metadata": {},
   "outputs": [
    {
     "name": "stdout",
     "output_type": "stream",
     "text": [
      "0.04098073555166375\n"
     ]
    }
   ],
   "source": [
    "clf = AdaBoostClassifier(DecisionTreeClassifier(max_depth=3),n_estimators=10,learning_rate =10)\n",
    "clf.fit(new_train, l_train)\n",
    "pred_rfc = clf.predict(new_test)\n",
    "score=ACCS(l_test, pred_rfc)\n",
    "print(score)"
   ]
  },
  {
   "cell_type": "code",
   "execution_count": 2,
   "metadata": {},
   "outputs": [],
   "source": [
    "pca = decomposition.PCA(n_components=40)\n",
    "new_train_afterPCA = pca.fit_transform(new_train.values)\n",
    "new_test_afterPCA = pca.transform(new_test.values)\n",
    "new_train_afterPCA_da = pd.DataFrame(new_train_afterPCA, index=new_train.index.values)\n",
    "new_test_afterPCA_da = pd.DataFrame(new_test_afterPCA, index=new_test.index.values)\n"
   ]
  },
  {
   "cell_type": "code",
   "execution_count": 3,
   "metadata": {},
   "outputs": [
    {
     "name": "stdout",
     "output_type": "stream",
     "text": [
      "0.37828371278458844\n",
      "0.9227640375894152\n"
     ]
    }
   ],
   "source": [
    "clf = AdaBoostClassifier(DecisionTreeClassifier(max_depth=10),n_estimators=200,learning_rate =1)\n",
    "clf.fit(new_train_afterPCA_da, l_train)\n",
    "pred_rfc = clf.predict(new_test_afterPCA_da)\n",
    "score=ACCS(l_test, pred_rfc)\n",
    "print(score)\n",
    "pred_rfc1 = clf.predict(new_train_afterPCA_da)\n",
    "score1=ACCS(l_train, pred_rfc1)\n",
    "print(score1)"
   ]
  },
  {
   "cell_type": "code",
   "execution_count": 4,
   "metadata": {},
   "outputs": [
    {
     "name": "stdout",
     "output_type": "stream",
     "text": [
      "0.39404553415061294\n",
      "0.9522184300341296\n"
     ]
    }
   ],
   "source": [
    "clf = AdaBoostClassifier(DecisionTreeClassifier(max_depth=10),n_estimators=400,learning_rate =1)\n",
    "clf.fit(new_train_afterPCA_da, l_train)\n",
    "pred_rfc = clf.predict(new_test_afterPCA_da)\n",
    "score=ACCS(l_test, pred_rfc)\n",
    "print(score)\n",
    "pred_rfc1 = clf.predict(new_train_afterPCA_da)\n",
    "score1=ACCS(l_train, pred_rfc1)\n",
    "print(score1)"
   ]
  },
  {
   "cell_type": "code",
   "execution_count": null,
   "metadata": {},
   "outputs": [],
   "source": [
    "from sklearn.tree import DecisionTreeClassifier \n",
    "\n",
    "clf = AdaBoostClassifier(DecisionTreeClassifier(max_depth=30),n_estimators=100,learning_rate =1)\n",
    "clf.fit(new_train, l_train)\n",
    "pred_rfc = clf.predict(new_test)\n",
    "score=ACCS(l_test, pred_rfc)\n",
    "print(score)\n",
    "pred_rfc1 = clf.predict(new_train)\n",
    "score1=ACCS(l_train, pred_rfc1)\n",
    "print(score1)"
   ]
  },
  {
   "cell_type": "code",
   "execution_count": null,
   "metadata": {},
   "outputs": [],
   "source": []
  }
 ],
 "metadata": {
  "kernelspec": {
   "display_name": "Python 3",
   "language": "python",
   "name": "python3"
  },
  "language_info": {
   "codemirror_mode": {
    "name": "ipython",
    "version": 3
   },
   "file_extension": ".py",
   "mimetype": "text/x-python",
   "name": "python",
   "nbconvert_exporter": "python",
   "pygments_lexer": "ipython3",
   "version": "3.8.3"
  }
 },
 "nbformat": 4,
 "nbformat_minor": 4
}

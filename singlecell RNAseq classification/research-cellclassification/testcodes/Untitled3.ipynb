{
 "cells": [
  {
   "cell_type": "code",
   "execution_count": 1,
   "metadata": {},
   "outputs": [
    {
     "name": "stderr",
     "output_type": "stream",
     "text": [
      "C:\\ProgramData\\Anaconda3\\lib\\site-packages\\pandas\\core\\frame.py:3990: SettingWithCopyWarning: \n",
      "A value is trying to be set on a copy of a slice from a DataFrame\n",
      "\n",
      "See the caveats in the documentation: https://pandas.pydata.org/pandas-docs/stable/user_guide/indexing.html#returning-a-view-versus-a-copy\n",
      "  return super().drop(\n"
     ]
    },
    {
     "name": "stdout",
     "output_type": "stream",
     "text": [
      "Accuracy\n",
      "0.5506129597197899\n"
     ]
    }
   ],
   "source": [
    "import seaborn as sns\n",
    "import pandas as pd\n",
    "import sklearn as sk\n",
    "import numpy as np\n",
    "from sklearn.feature_selection import VarianceThreshold  # 导入python的相关模块\n",
    "from sklearn.ensemble import RandomForestClassifier\n",
    "from sklearn.model_selection import cross_val_score\n",
    "from sklearn.metrics import confusion_matrix as CM\n",
    "from sklearn.metrics import accuracy_score as ACCS\n",
    "import pandas as pd\n",
    "from sklearn import tree\n",
    "from sklearn import decomposition\n",
    "from sklearn.metrics import confusion_matrix\n",
    "import matplotlib.pyplot as plt\n",
    "import numpy as np\n",
    "\n",
    "# open up a datastore\n",
    "store1 = pd.HDFStore('C:/ftp/ml_10701_ps5_data.tar/test_data.h5')\n",
    "store = pd.HDFStore('C:/ftp/ml_10701_ps5_data.tar/train_data.h5')\n",
    "\n",
    "#print (store)\n",
    "#print (store.keys())\n",
    "#print (store.info())\n",
    "\n",
    "# Get the feature matrix (samples and their features)\n",
    "labels_series_train = store['labels']\n",
    "feature_matrix_dataframe_train = store['rpkm']\n",
    "feature_matrix_dataframe_test = store1['rpkm']  # test的数据框架\n",
    "\n",
    "#print (type(labels_series_train))\n",
    "\n",
    "#print ('labels should be 21389,1')\n",
    "#print (labels_series_train.shape)\n",
    "       \n",
    "#print (type(feature_matrix_dataframe_test))\n",
    "#print ('train data feature shape should be 21389,20499：')\n",
    "#print (feature_matrix_dataframe_train.shape)\n",
    "\n",
    "feature_matrix_dataframe_train['labels'] = labels_series_train #合并原来的train label series和rpkm dataframe\n",
    "\n",
    "#print (type(feature_matrix_dataframe_train))\n",
    "#print ('after addition should be 21389,20500:')\n",
    "#print (feature_matrix_dataframe_train.shape)\n",
    "#print (feature_matrix_dataframe_train.labels)\n",
    "\n",
    "Test_cell_types = [\n",
    "         'CL:0000353 blastoderm cell',\n",
    "         'CL:0002322 embryonic stem cell',\n",
    "         'UBERON:0002107 liver',\n",
    "         'UBERON:0001851 cortex',\n",
    "         'UBERON:0000115 lung epithelium',\n",
    "         'UBERON:0000922 embryo',\n",
    "         'CL:0000746 cardiac muscle cell',\n",
    "         \"UBERON:0001954 Ammon's horn\",\n",
    "         'CL:0000037 hematopoietic stem cell',\n",
    "         'UBERON:0000044 dorsal root ganglion',\n",
    "         'CL:0002321 embryonic cell',\n",
    "         'UBERON:0001003 skin epidermis',\n",
    "         'CL:0002319 neural cell',\n",
    "         'UBERON:0002048 lung',\n",
    "         'CL:0000137 osteocyte',\n",
    "         'UBERON:0001898 hypothalamus',\n",
    "         'CL:0000540 neuron',\n",
    "         'UBERON:0001264 pancreas',\n",
    "         'CL:0000235 macrophage',\n",
    "         'UBERON:0000955 brain',\n",
    "         'UBERON:0000966 retina']\n",
    "\n",
    "#进行筛选\n",
    "feature_matrix_dataframe = feature_matrix_dataframe_train[feature_matrix_dataframe_train.labels.isin(Test_cell_types)]\n",
    "\n",
    "#测试是否完成筛选\n",
    "#print (feature_matrix_dataframe.loc[feature_matrix_dataframe['labels'] == 'UBERON:0000966 retina'])\n",
    "\n",
    "#print ('shape after Test cell filter: ')\n",
    "#print (feature_matrix_dataframe.shape)\n",
    "\n",
    "labels_series = feature_matrix_dataframe['labels']\n",
    "train_data_lab = labels_series.values      #selected train data label\n",
    "\n",
    "#去除label\n",
    "feature_matrix_dataframe.drop(columns=['labels'],inplace = True)  # train的数据框架\n",
    "\n",
    "#print (\"shape after drop the labels:\")\n",
    "#print (feature_matrix_dataframe.shape)\n",
    "\n",
    "all_in = pd.concat([feature_matrix_dataframe,feature_matrix_dataframe_test],axis=0,join='inner')\n",
    "\n",
    "#print (all_in.shape)\n",
    "\n",
    "name=all_in.index.values   #提取行标签\n",
    "\n",
    "data=all_in.values  #提取数据丢掉标签（总和数据）\n",
    "\n",
    "sel=VarianceThreshold(threshold=15)  #表示剔除特征的方差小于阈值 i的feature\n",
    "new=sel.fit_transform(data)#返回的结果为选择的特征矩阵\n",
    "new_all=pd.DataFrame(new,index=name) #得到只剩下feature的新数据\n",
    "new_train = new_all.iloc[:10944,]  #新的train数据 \n",
    "new_test = new_all.iloc[10944: ,]  #新的test数据\n",
    "\n",
    "    #注意，新数据的gene序列（columns）被抹掉了，但是这不重要\n",
    "    #唯一的问题是所有的数据一起提取方差了\n",
    "\n",
    "pca = decomposition.PCA(n_components = 41)  #这边可以用MLE吗？\n",
    "new_train_afterPCA = pca.fit_transform(new_train.values)\n",
    "new_test_afterPCA = pca.transform(new_test.values)\n",
    "            #降维\n",
    "new_train_afterPCA_da = pd.DataFrame(new_train_afterPCA, index=new_train.index.values)\n",
    "new_test_afterPCA_da = pd.DataFrame(new_test_afterPCA, index=new_test.index.values)\n",
    "#print(new_train_afterPCA_da.shape[0])\n",
    "#print(new_train_afterPCA_da.shape[1])\n",
    "\n",
    "labels_series1 = store1['labels']\n",
    "test_data_lab = labels_series1.values         #test data label\n",
    "\n",
    "clf = RandomForestClassifier(min_samples_leaf=55, n_estimators=150, max_depth=30, n_jobs=2, random_state=0)\n",
    "clf.fit(new_train_afterPCA_da, train_data_lab)\n",
    "# print(new_test_afterPCA_da)\n",
    "# print(type(new_test_afterPCA_da))\n",
    "# print(new_test_afterPCA_da.shape)\n",
    "\n",
    "pred_rfc = clf.predict(new_test_afterPCA_da)\n",
    "\n",
    "# print(pred_rfc)\n",
    "# print(type(pred_rfc))\n",
    "# print(pred_rfc.shape)\n",
    "\n",
    "score=ACCS(test_data_lab, pred_rfc)\n",
    "print(\"Accuracy\")\n",
    "print(score)"
   ]
  },
  {
   "cell_type": "code",
   "execution_count": 3,
   "metadata": {},
   "outputs": [
    {
     "name": "stdout",
     "output_type": "stream",
     "text": [
      "0.5562171628721542\n",
      "0.8831323099415205\n"
     ]
    },
    {
     "name": "stderr",
     "output_type": "stream",
     "text": [
      "C:\\ProgramData\\Anaconda3\\lib\\site-packages\\sklearn\\linear_model\\_sag.py:329: ConvergenceWarning: The max_iter was reached which means the coef_ did not converge\n",
      "  warnings.warn(\"The max_iter was reached which means \"\n"
     ]
    }
   ],
   "source": [
    "from sklearn.linear_model import LogisticRegression\n",
    "\n",
    "clf = LogisticRegression(solver = 'sag', multi_class = 'multinomial')\n",
    "clf.fit(new_train_afterPCA_da, train_data_lab)\n",
    "pred_rfc = clf.predict(new_test_afterPCA_da)\n",
    "score=ACCS(test_data_lab, pred_rfc)\n",
    "print(score)\n",
    "pred_rfc1 = clf.predict(new_train_afterPCA_da)\n",
    "score1=ACCS(train_data_lab, pred_rfc1)\n",
    "print(score1)"
   ]
  },
  {
   "cell_type": "code",
   "execution_count": 4,
   "metadata": {},
   "outputs": [
    {
     "name": "stdout",
     "output_type": "stream",
     "text": [
      "0.5761821366024519\n",
      "0.9028691520467836\n"
     ]
    },
    {
     "name": "stderr",
     "output_type": "stream",
     "text": [
      "C:\\ProgramData\\Anaconda3\\lib\\site-packages\\sklearn\\linear_model\\_sag.py:329: ConvergenceWarning: The max_iter was reached which means the coef_ did not converge\n",
      "  warnings.warn(\"The max_iter was reached which means \"\n"
     ]
    }
   ],
   "source": [
    "from sklearn.linear_model import LogisticRegression\n",
    "\n",
    "clf = LogisticRegression(solver = 'sag', multi_class = 'multinomial',max_iter = 200)\n",
    "clf.fit(new_train_afterPCA_da, train_data_lab)\n",
    "pred_rfc = clf.predict(new_test_afterPCA_da)\n",
    "score=ACCS(test_data_lab, pred_rfc)\n",
    "print(score)\n",
    "pred_rfc1 = clf.predict(new_train_afterPCA_da)\n",
    "score1=ACCS(train_data_lab, pred_rfc1)\n",
    "print(score1)"
   ]
  },
  {
   "cell_type": "code",
   "execution_count": 5,
   "metadata": {},
   "outputs": [
    {
     "name": "stdout",
     "output_type": "stream",
     "text": [
      "0.5604203152364273\n",
      "0.9198647660818714\n"
     ]
    },
    {
     "name": "stderr",
     "output_type": "stream",
     "text": [
      "C:\\ProgramData\\Anaconda3\\lib\\site-packages\\sklearn\\linear_model\\_sag.py:329: ConvergenceWarning: The max_iter was reached which means the coef_ did not converge\n",
      "  warnings.warn(\"The max_iter was reached which means \"\n"
     ]
    }
   ],
   "source": [
    "from sklearn.linear_model import LogisticRegression\n",
    "\n",
    "clf = LogisticRegression(solver = 'sag', multi_class = 'multinomial',max_iter = 500)\n",
    "clf.fit(new_train_afterPCA_da, train_data_lab)\n",
    "pred_rfc = clf.predict(new_test_afterPCA_da)\n",
    "score=ACCS(test_data_lab, pred_rfc)\n",
    "print(score)\n",
    "pred_rfc1 = clf.predict(new_train_afterPCA_da)\n",
    "score1=ACCS(train_data_lab, pred_rfc1)\n",
    "print(score1)"
   ]
  },
  {
   "cell_type": "code",
   "execution_count": 8,
   "metadata": {},
   "outputs": [
    {
     "name": "stdout",
     "output_type": "stream",
     "text": [
      "0.5506129597197899\n",
      "0.9315606725146199\n"
     ]
    },
    {
     "name": "stderr",
     "output_type": "stream",
     "text": [
      "C:\\ProgramData\\Anaconda3\\lib\\site-packages\\sklearn\\linear_model\\_sag.py:329: ConvergenceWarning: The max_iter was reached which means the coef_ did not converge\n",
      "  warnings.warn(\"The max_iter was reached which means \"\n"
     ]
    }
   ],
   "source": [
    "from sklearn.linear_model import LogisticRegression\n",
    "\n",
    "clf = LogisticRegression(solver = 'sag', multi_class = 'multinomial',max_iter = 1000)\n",
    "clf.fit(new_train_afterPCA_da, train_data_lab)\n",
    "pred_rfc = clf.predict(new_test_afterPCA_da)\n",
    "score=ACCS(test_data_lab, pred_rfc)\n",
    "print(score)\n",
    "pred_rfc1 = clf.predict(new_train_afterPCA_da)\n",
    "score1=ACCS(train_data_lab, pred_rfc1)\n",
    "print(score1)"
   ]
  },
  {
   "cell_type": "code",
   "execution_count": 9,
   "metadata": {},
   "outputs": [
    {
     "name": "stdout",
     "output_type": "stream",
     "text": [
      "0.5471103327495622\n",
      "0.9386878654970761\n"
     ]
    },
    {
     "name": "stderr",
     "output_type": "stream",
     "text": [
      "C:\\ProgramData\\Anaconda3\\lib\\site-packages\\sklearn\\linear_model\\_sag.py:329: ConvergenceWarning: The max_iter was reached which means the coef_ did not converge\n",
      "  warnings.warn(\"The max_iter was reached which means \"\n"
     ]
    }
   ],
   "source": [
    "from sklearn.linear_model import LogisticRegression\n",
    "\n",
    "clf = LogisticRegression(solver = 'sag', multi_class = 'multinomial',max_iter = 2000)\n",
    "clf.fit(new_train_afterPCA_da, train_data_lab)\n",
    "pred_rfc = clf.predict(new_test_afterPCA_da)\n",
    "score=ACCS(test_data_lab, pred_rfc)\n",
    "print(score)\n",
    "pred_rfc1 = clf.predict(new_train_afterPCA_da)\n",
    "score1=ACCS(train_data_lab, pred_rfc1)\n",
    "print(score1)"
   ]
  },
  {
   "cell_type": "code",
   "execution_count": 10,
   "metadata": {},
   "outputs": [
    {
     "name": "stdout",
     "output_type": "stream",
     "text": [
      "0.5446584938704028\n",
      "0.9436220760233918\n"
     ]
    }
   ],
   "source": [
    "from sklearn.linear_model import LogisticRegression\n",
    "\n",
    "clf = LogisticRegression(solver = 'sag', multi_class = 'multinomial',max_iter = 5000)\n",
    "clf.fit(new_train_afterPCA_da, train_data_lab)\n",
    "pred_rfc = clf.predict(new_test_afterPCA_da)\n",
    "score=ACCS(test_data_lab, pred_rfc)\n",
    "print(score)\n",
    "pred_rfc1 = clf.predict(new_train_afterPCA_da)\n",
    "score1=ACCS(train_data_lab, pred_rfc1)\n",
    "print(score1)"
   ]
  },
  {
   "cell_type": "code",
   "execution_count": 12,
   "metadata": {},
   "outputs": [
    {
     "name": "stderr",
     "output_type": "stream",
     "text": [
      "C:\\ProgramData\\Anaconda3\\lib\\site-packages\\sklearn\\linear_model\\_sag.py:329: ConvergenceWarning: The max_iter was reached which means the coef_ did not converge\n",
      "  warnings.warn(\"The max_iter was reached which means \"\n",
      "C:\\ProgramData\\Anaconda3\\lib\\site-packages\\sklearn\\linear_model\\_sag.py:329: ConvergenceWarning: The max_iter was reached which means the coef_ did not converge\n",
      "  warnings.warn(\"The max_iter was reached which means \"\n",
      "C:\\ProgramData\\Anaconda3\\lib\\site-packages\\sklearn\\linear_model\\_sag.py:329: ConvergenceWarning: The max_iter was reached which means the coef_ did not converge\n",
      "  warnings.warn(\"The max_iter was reached which means \"\n",
      "C:\\ProgramData\\Anaconda3\\lib\\site-packages\\sklearn\\linear_model\\_sag.py:329: ConvergenceWarning: The max_iter was reached which means the coef_ did not converge\n",
      "  warnings.warn(\"The max_iter was reached which means \"\n",
      "C:\\ProgramData\\Anaconda3\\lib\\site-packages\\sklearn\\linear_model\\_sag.py:329: ConvergenceWarning: The max_iter was reached which means the coef_ did not converge\n",
      "  warnings.warn(\"The max_iter was reached which means \"\n",
      "C:\\ProgramData\\Anaconda3\\lib\\site-packages\\sklearn\\linear_model\\_sag.py:329: ConvergenceWarning: The max_iter was reached which means the coef_ did not converge\n",
      "  warnings.warn(\"The max_iter was reached which means \"\n",
      "C:\\ProgramData\\Anaconda3\\lib\\site-packages\\sklearn\\linear_model\\_sag.py:329: ConvergenceWarning: The max_iter was reached which means the coef_ did not converge\n",
      "  warnings.warn(\"The max_iter was reached which means \"\n"
     ]
    },
    {
     "name": "stdout",
     "output_type": "stream",
     "text": [
      "0.4339754816112084\n",
      "0.7887426900584795\n"
     ]
    },
    {
     "name": "stderr",
     "output_type": "stream",
     "text": [
      "C:\\ProgramData\\Anaconda3\\lib\\site-packages\\sklearn\\linear_model\\_sag.py:329: ConvergenceWarning: The max_iter was reached which means the coef_ did not converge\n",
      "  warnings.warn(\"The max_iter was reached which means \"\n"
     ]
    }
   ],
   "source": [
    "from sklearn.linear_model import LogisticRegression\n",
    "\n",
    "clf = LogisticRegression(solver = 'sag', multi_class = 'ovr',max_iter = 2000)\n",
    "clf.fit(new_train_afterPCA_da, train_data_lab)\n",
    "pred_rfc = clf.predict(new_test_afterPCA_da)\n",
    "score=ACCS(test_data_lab, pred_rfc)\n",
    "print(score)\n",
    "pred_rfc1 = clf.predict(new_train_afterPCA_da)\n",
    "score1=ACCS(train_data_lab, pred_rfc1)\n",
    "print(score1)"
   ]
  },
  {
   "cell_type": "code",
   "execution_count": 13,
   "metadata": {},
   "outputs": [
    {
     "name": "stderr",
     "output_type": "stream",
     "text": [
      "C:\\ProgramData\\Anaconda3\\lib\\site-packages\\sklearn\\linear_model\\_sag.py:329: ConvergenceWarning: The max_iter was reached which means the coef_ did not converge\n",
      "  warnings.warn(\"The max_iter was reached which means \"\n",
      "C:\\ProgramData\\Anaconda3\\lib\\site-packages\\sklearn\\linear_model\\_sag.py:329: ConvergenceWarning: The max_iter was reached which means the coef_ did not converge\n",
      "  warnings.warn(\"The max_iter was reached which means \"\n",
      "C:\\ProgramData\\Anaconda3\\lib\\site-packages\\sklearn\\linear_model\\_sag.py:329: ConvergenceWarning: The max_iter was reached which means the coef_ did not converge\n",
      "  warnings.warn(\"The max_iter was reached which means \"\n",
      "C:\\ProgramData\\Anaconda3\\lib\\site-packages\\sklearn\\linear_model\\_sag.py:329: ConvergenceWarning: The max_iter was reached which means the coef_ did not converge\n",
      "  warnings.warn(\"The max_iter was reached which means \"\n",
      "C:\\ProgramData\\Anaconda3\\lib\\site-packages\\sklearn\\linear_model\\_sag.py:329: ConvergenceWarning: The max_iter was reached which means the coef_ did not converge\n",
      "  warnings.warn(\"The max_iter was reached which means \"\n",
      "C:\\ProgramData\\Anaconda3\\lib\\site-packages\\sklearn\\linear_model\\_sag.py:329: ConvergenceWarning: The max_iter was reached which means the coef_ did not converge\n",
      "  warnings.warn(\"The max_iter was reached which means \"\n",
      "C:\\ProgramData\\Anaconda3\\lib\\site-packages\\sklearn\\linear_model\\_sag.py:329: ConvergenceWarning: The max_iter was reached which means the coef_ did not converge\n",
      "  warnings.warn(\"The max_iter was reached which means \"\n",
      "C:\\ProgramData\\Anaconda3\\lib\\site-packages\\sklearn\\linear_model\\_sag.py:329: ConvergenceWarning: The max_iter was reached which means the coef_ did not converge\n",
      "  warnings.warn(\"The max_iter was reached which means \"\n"
     ]
    },
    {
     "name": "stdout",
     "output_type": "stream",
     "text": [
      "0.44203152364273207\n",
      "0.7883771929824561\n"
     ]
    },
    {
     "name": "stderr",
     "output_type": "stream",
     "text": [
      "C:\\ProgramData\\Anaconda3\\lib\\site-packages\\sklearn\\linear_model\\_sag.py:329: ConvergenceWarning: The max_iter was reached which means the coef_ did not converge\n",
      "  warnings.warn(\"The max_iter was reached which means \"\n"
     ]
    }
   ],
   "source": [
    "from sklearn.linear_model import LogisticRegression\n",
    "\n",
    "clf = LogisticRegression(solver = 'saga', multi_class = 'ovr',max_iter = 2000)\n",
    "clf.fit(new_train_afterPCA_da, train_data_lab)\n",
    "pred_rfc = clf.predict(new_test_afterPCA_da)\n",
    "score=ACCS(test_data_lab, pred_rfc)\n",
    "print(score)\n",
    "pred_rfc1 = clf.predict(new_train_afterPCA_da)\n",
    "score1=ACCS(train_data_lab, pred_rfc1)\n",
    "print(score1)"
   ]
  },
  {
   "cell_type": "code",
   "execution_count": 15,
   "metadata": {},
   "outputs": [
    {
     "name": "stdout",
     "output_type": "stream",
     "text": [
      "0.5565674255691769\n",
      "0.8829495614035088\n"
     ]
    },
    {
     "name": "stderr",
     "output_type": "stream",
     "text": [
      "C:\\ProgramData\\Anaconda3\\lib\\site-packages\\sklearn\\linear_model\\_sag.py:329: ConvergenceWarning: The max_iter was reached which means the coef_ did not converge\n",
      "  warnings.warn(\"The max_iter was reached which means \"\n"
     ]
    }
   ],
   "source": [
    "from sklearn.linear_model import LogisticRegression\n",
    "\n",
    "clf = LogisticRegression(solver = 'saga', multi_class = 'multinomial',max_iter = 200)\n",
    "clf.fit(new_train_afterPCA_da, train_data_lab)\n",
    "pred_rfc = clf.predict(new_test_afterPCA_da)\n",
    "score=ACCS(test_data_lab, pred_rfc)\n",
    "print(score)\n",
    "pred_rfc1 = clf.predict(new_train_afterPCA_da)\n",
    "score1=ACCS(train_data_lab, pred_rfc1)\n",
    "print(score1)"
   ]
  },
  {
   "cell_type": "code",
   "execution_count": 16,
   "metadata": {},
   "outputs": [
    {
     "name": "stdout",
     "output_type": "stream",
     "text": [
      "0.5786339754816112\n",
      "0.9081688596491229\n"
     ]
    },
    {
     "name": "stderr",
     "output_type": "stream",
     "text": [
      "C:\\ProgramData\\Anaconda3\\lib\\site-packages\\sklearn\\linear_model\\_sag.py:329: ConvergenceWarning: The max_iter was reached which means the coef_ did not converge\n",
      "  warnings.warn(\"The max_iter was reached which means \"\n"
     ]
    }
   ],
   "source": [
    "from sklearn.linear_model import LogisticRegression\n",
    "\n",
    "clf = LogisticRegression(solver = 'saga', multi_class = 'multinomial',max_iter = 500)\n",
    "clf.fit(new_train_afterPCA_da, train_data_lab)\n",
    "pred_rfc = clf.predict(new_test_afterPCA_da)\n",
    "score=ACCS(test_data_lab, pred_rfc)\n",
    "print(score)\n",
    "pred_rfc1 = clf.predict(new_train_afterPCA_da)\n",
    "score1=ACCS(train_data_lab, pred_rfc1)\n",
    "print(score1)"
   ]
  },
  {
   "cell_type": "code",
   "execution_count": 17,
   "metadata": {},
   "outputs": [
    {
     "name": "stdout",
     "output_type": "stream",
     "text": [
      "0.5702276707530648\n",
      "0.9156615497076024\n"
     ]
    },
    {
     "name": "stderr",
     "output_type": "stream",
     "text": [
      "C:\\ProgramData\\Anaconda3\\lib\\site-packages\\sklearn\\linear_model\\_sag.py:329: ConvergenceWarning: The max_iter was reached which means the coef_ did not converge\n",
      "  warnings.warn(\"The max_iter was reached which means \"\n"
     ]
    }
   ],
   "source": [
    "from sklearn.linear_model import LogisticRegression\n",
    "\n",
    "clf = LogisticRegression(solver = 'saga', multi_class = 'multinomial',max_iter = 700)\n",
    "clf.fit(new_train_afterPCA_da, train_data_lab)\n",
    "pred_rfc = clf.predict(new_test_afterPCA_da)\n",
    "score=ACCS(test_data_lab, pred_rfc)\n",
    "print(score)\n",
    "pred_rfc1 = clf.predict(new_train_afterPCA_da)\n",
    "score1=ACCS(train_data_lab, pred_rfc1)\n",
    "print(score1)"
   ]
  },
  {
   "cell_type": "code",
   "execution_count": null,
   "metadata": {},
   "outputs": [],
   "source": []
  }
 ],
 "metadata": {
  "kernelspec": {
   "display_name": "Python 3",
   "language": "python",
   "name": "python3"
  },
  "language_info": {
   "codemirror_mode": {
    "name": "ipython",
    "version": 3
   },
   "file_extension": ".py",
   "mimetype": "text/x-python",
   "name": "python",
   "nbconvert_exporter": "python",
   "pygments_lexer": "ipython3",
   "version": "3.8.3"
  }
 },
 "nbformat": 4,
 "nbformat_minor": 4
}

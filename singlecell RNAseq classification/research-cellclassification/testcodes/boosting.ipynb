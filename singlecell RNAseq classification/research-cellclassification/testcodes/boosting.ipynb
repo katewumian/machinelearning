{
 "cells": [
  {
   "cell_type": "code",
   "execution_count": 1,
   "metadata": {},
   "outputs": [
    {
     "name": "stdout",
     "output_type": "stream",
     "text": [
      "21389\n",
      "50\n"
     ]
    }
   ],
   "source": [
    "from sklearn.ensemble import RandomForestClassifier\n",
    "from sklearn.model_selection import cross_val_score\n",
    "from sklearn.metrics import accuracy_score as ACCS\n",
    "import pandas as pd\n",
    "from sklearn import decomposition\n",
    "from sklearn.ensemble import AdaBoostClassifier\n",
    "from sklearn.tree import DecisionTreeClassifier \n",
    "from sklearn.metrics import confusion_matrix as CM\n",
    "\n",
    "#Open the original training and testing data\n",
    "store_test = pd.HDFStore('C:/ftp/ml_10701_ps5_data.tar/test_data.h5')\n",
    "store_train = pd.HDFStore('C:/ftp/ml_10701_ps5_data.tar/train_data.h5')\n",
    "feature_matrix_dataframe_test = store_test['rpkm']\n",
    "feature_matrix_dataframe_train =  store_train['rpkm']\n",
    "labels_series_test = store_test['labels']\n",
    "l_test = labels_series_test.values#label of testing set\n",
    "labels_series_train = store_train['labels']\n",
    "l_train= labels_series_train.values#label of the training set\n",
    "\n",
    "new_train = pd.read_csv('new_train.csv')\n",
    "new_test = pd.read_csv('new_test.csv')\n",
    "new_train=  new_train.iloc[:,1:]\n",
    "new_test=  new_test.iloc[:,1:]\n",
    "\n",
    "pca = decomposition.PCA(n_components=50)\n",
    "new_train_afterPCA = pca.fit_transform(new_train.values)\n",
    "new_test_afterPCA = pca.transform(new_test.values)\n",
    "# 降维\n",
    "new_train_afterPCA_da = pd.DataFrame(new_train_afterPCA, index=new_train.index.values)\n",
    "new_test_afterPCA_da = pd.DataFrame(new_test_afterPCA, index=new_test.index.values)\n",
    "print(new_train_afterPCA_da.shape[0])\n",
    "print(new_train_afterPCA_da.shape[1])\n"
   ]
  },
  {
   "cell_type": "code",
   "execution_count": 2,
   "metadata": {},
   "outputs": [
    {
     "name": "stdout",
     "output_type": "stream",
     "text": [
      "0.26725043782837127\n",
      "0.895320024311562\n"
     ]
    }
   ],
   "source": [
    "clf = AdaBoostClassifier(DecisionTreeClassifier(max_depth=10),n_estimators=100,learning_rate =1)\n",
    "clf.fit(new_train_afterPCA_da, l_train)\n",
    "pred_rfc = clf.predict(new_test_afterPCA_da)\n",
    "score=ACCS(l_test, pred_rfc)\n",
    "print(score)\n",
    "pred_rfc1 = clf.predict(new_train_afterPCA_da)\n",
    "score1=ACCS(l_train, pred_rfc1)\n",
    "print(score1)"
   ]
  },
  {
   "cell_type": "code",
   "execution_count": 3,
   "metadata": {},
   "outputs": [
    {
     "name": "stdout",
     "output_type": "stream",
     "text": [
      "0.3394045534150613\n",
      "0.9540417971854692\n"
     ]
    }
   ],
   "source": [
    "clf = AdaBoostClassifier(DecisionTreeClassifier(max_depth=10),n_estimators=800,learning_rate =1)\n",
    "clf.fit(new_train_afterPCA_da, l_train)\n",
    "pred_rfc = clf.predict(new_test_afterPCA_da)\n",
    "score=ACCS(l_test, pred_rfc)\n",
    "print(score)\n",
    "pred_rfc1 = clf.predict(new_train_afterPCA_da)\n",
    "score1=ACCS(l_train, pred_rfc1)\n",
    "print(score1)"
   ]
  },
  {
   "cell_type": "code",
   "execution_count": 6,
   "metadata": {},
   "outputs": [],
   "source": [
    "pca = decomposition.PCA(n_components=25)\n",
    "new_train_afterPCA = pca.fit_transform(new_train.values)\n",
    "new_test_afterPCA = pca.transform(new_test.values)\n",
    "new_train_afterPCA_da = pd.DataFrame(new_train_afterPCA, index=new_train.index.values)\n",
    "new_test_afterPCA_da = pd.DataFrame(new_test_afterPCA, index=new_test.index.values)\n"
   ]
  },
  {
   "cell_type": "code",
   "execution_count": 7,
   "metadata": {},
   "outputs": [
    {
     "name": "stdout",
     "output_type": "stream",
     "text": [
      "0.27180385288966724\n"
     ]
    }
   ],
   "source": [
    "clf = AdaBoostClassifier(DecisionTreeClassifier(max_depth=3),n_estimators=600,learning_rate =1)\n",
    "clf.fit(new_train_afterPCA_da, l_train)\n",
    "pred_rfc = clf.predict(new_test_afterPCA_da)\n",
    "score=ACCS(l_test, pred_rfc)\n",
    "print(score)"
   ]
  },
  {
   "cell_type": "code",
   "execution_count": 8,
   "metadata": {},
   "outputs": [
    {
     "name": "stdout",
     "output_type": "stream",
     "text": [
      "0.41815886670718594\n"
     ]
    }
   ],
   "source": [
    "pred_rfc1 = clf.predict(new_train_afterPCA_da)\n",
    "score1=ACCS(l_train, pred_rfc1)\n",
    "print(score1)"
   ]
  },
  {
   "cell_type": "code",
   "execution_count": null,
   "metadata": {},
   "outputs": [
    {
     "name": "stdout",
     "output_type": "stream",
     "text": [
      "0.2192644483362522\n"
     ]
    }
   ],
   "source": [
    "clf = AdaBoostClassifier(DecisionTreeClassifier(max_depth=3),n_estimators=1200,learning_rate =1)\n",
    "clf.fit(new_train_afterPCA_da, l_train)\n",
    "pred_rfc = clf.predict(new_test_afterPCA_da)\n",
    "score=ACCS(l_test, pred_rfc)\n",
    "print(score)\n",
    "pred_rfc1 = clf.predict(new_train_afterPCA_da)\n",
    "score1=ACCS(l_train, pred_rfc1)\n",
    "print(score1)"
   ]
  },
  {
   "cell_type": "code",
   "execution_count": null,
   "metadata": {},
   "outputs": [],
   "source": []
  }
 ],
 "metadata": {
  "kernelspec": {
   "display_name": "Python 3",
   "language": "python",
   "name": "python3"
  },
  "language_info": {
   "codemirror_mode": {
    "name": "ipython",
    "version": 3
   },
   "file_extension": ".py",
   "mimetype": "text/x-python",
   "name": "python",
   "nbconvert_exporter": "python",
   "pygments_lexer": "ipython3",
   "version": "3.8.3"
  }
 },
 "nbformat": 4,
 "nbformat_minor": 2
}

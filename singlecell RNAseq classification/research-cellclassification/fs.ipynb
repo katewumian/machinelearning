{
 "cells": [
  {
   "cell_type": "code",
   "execution_count": 3,
   "metadata": {},
   "outputs": [
    {
     "name": "stdout",
     "output_type": "stream",
     "text": [
      "21389\n",
      "6246\n"
     ]
    }
   ],
   "source": [
    "import pandas as pd\n",
    "import sklearn as sk\n",
    "import numpy as np\n",
    "from sklearn.feature_selection import VarianceThreshold #导入python的相关模块\n",
    "# open up a datastore\n",
    "store = pd.HDFStore('C:/ftp/ml_10701_ps5_data.tar/train_data.h5')\n",
    "store1 = pd.HDFStore('C:/ftp/ml_10701_ps5_data.tar/test_data.h5')\n",
    "# Get the feature matrix (samples and their features)\n",
    "feature_matrix_dataframe = store['rpkm']     #train的数据框架\n",
    "feature_matrix_dataframe_test = store1['rpkm']   #test的数据框架\n",
    "\n",
    "all_in = pd.concat([feature_matrix_dataframe,feature_matrix_dataframe_test],axis=0,join='inner')\n",
    "\n",
    "name=all_in.index.values   #提取行标签\n",
    "\n",
    "data=all_in.values  #提取数据丢掉标签（总和数据）\n",
    "sel=VarianceThreshold(threshold=10)  #表示剔除特征的方差大于阈值10的feature\n",
    "new=sel.fit_transform(data)#返回的结果为选择的特征矩阵\n",
    "new_all=pd.DataFrame(new,index=name) #得到只剩下feature的新数据\n",
    "a=new_all.iloc[:5,3]\n",
    "new_train = new_all.iloc[:21389,]  #新的train数据 \n",
    "new_test = new_all.iloc[21389: ,]  #新的test数据\n",
    "\n",
    "#注意，新数据的gene序列（columns）被抹掉了，但是这不重要\n",
    "#唯一的问题是所有的数据一起提取方差了\n",
    "print(new_train.shape[0])\n",
    "print(new_train.shape[1])\n",
    "new_train.to_csv('new_train2.csv')\n",
    "new_test.to_csv('new_test2.csv')"
   ]
  },
  {
   "cell_type": "code",
   "execution_count": 6,
   "metadata": {},
   "outputs": [
    {
     "name": "stdout",
     "output_type": "stream",
     "text": [
      "21389\n",
      "4717\n"
     ]
    }
   ],
   "source": [
    "import pandas as pd\n",
    "import sklearn as sk\n",
    "import numpy as np\n",
    "from sklearn.feature_selection import VarianceThreshold #导入python的相关模块\n",
    "# open up a datastore\n",
    "store = pd.HDFStore('C:/ftp/ml_10701_ps5_data.tar/train_data.h5')\n",
    "store1 = pd.HDFStore('C:/ftp/ml_10701_ps5_data.tar/test_data.h5')\n",
    "# Get the feature matrix (samples and their features)\n",
    "feature_matrix_dataframe = store['rpkm']     #train的数据框架\n",
    "feature_matrix_dataframe_test = store1['rpkm']   #test的数据框架\n",
    "\n",
    "all_in = pd.concat([feature_matrix_dataframe,feature_matrix_dataframe_test],axis=0,join='inner')\n",
    "\n",
    "name=all_in.index.values   #提取行标签\n",
    "\n",
    "data=all_in.values  #提取数据丢掉标签（总和数据）\n",
    "sel=VarianceThreshold(threshold=20)  #表示剔除特征的方差大于阈值20的feature\n",
    "new=sel.fit_transform(data)#返回的结果为选择的特征矩阵\n",
    "new_all=pd.DataFrame(new,index=name) #得到只剩下feature的新数据\n",
    "a=new_all.iloc[:5,3]\n",
    "new_train2 = new_all.iloc[:21389,]  #新的train数据 \n",
    "new_test2 = new_all.iloc[21389: ,]  #新的test数据\n",
    "\n",
    "#注意，新数据的gene序列（columns）被抹掉了，但是这不重要\n",
    "#唯一的问题是所有的数据一起提取方差了\n",
    "print(new_train2.shape[0])\n",
    "print(new_train2.shape[1])\n",
    "new_train2.to_csv('new_train1.csv')\n",
    "new_test2.to_csv('new_test1.csv')"
   ]
  },
  {
   "cell_type": "code",
   "execution_count": 7,
   "metadata": {},
   "outputs": [
    {
     "name": "stdout",
     "output_type": "stream",
     "text": [
      "Acc on test data\n",
      "0.3922942206654991\n",
      "\n",
      "Acc on test data\n",
      "0.3968476357267951\n",
      "\n",
      "Acc on test data\n",
      "0.3905429071803853\n",
      "\n",
      "Acc on test data\n",
      "0.4052539404553415\n",
      "\n",
      "Acc on test data\n",
      "0.39719789842381786\n",
      "\n",
      "Acc on test data\n",
      "0.38949211908931697\n",
      "\n"
     ]
    }
   ],
   "source": [
    "from sklearn.ensemble import RandomForestClassifier\n",
    "from sklearn.model_selection import cross_val_score\n",
    "from sklearn.metrics import confusion_matrix as CM\n",
    "from sklearn.metrics import accuracy_score as ACCS\n",
    "import pandas as pd\n",
    "\n",
    "#Open the original training and testing data\n",
    "store_test = pd.HDFStore('C:/ftp/ml_10701_ps5_data.tar/test_data.h5')\n",
    "store_train = pd.HDFStore('C:/ftp/ml_10701_ps5_data.tar/train_data.h5')\n",
    "feature_matrix_dataframe_test = store_test['rpkm']\n",
    "feature_matrix_dataframe_train =  store_train['rpkm']\n",
    "labels_series_test = store_test['labels']\n",
    "l_test = labels_series_test.values#label of testing set\n",
    "labels_series_train = store_train['labels']\n",
    "l_train= labels_series_train.values#label of the training set\n",
    "\n",
    "#var = 10\n",
    "clf = RandomForestClassifier(n_estimators = 100,max_depth=20,n_jobs=2,random_state=0)\n",
    "clf.fit(new_train, l_train)\n",
    "pred_rfc = clf.predict(new_test)\n",
    "score=ACCS(l_test, pred_rfc)\n",
    "print(\"Acc on test data\")\n",
    "print(score)\n",
    "print()\n",
    "clf = RandomForestClassifier(n_estimators = 100,max_depth=30,n_jobs=2,random_state=0)\n",
    "clf.fit(new_train, l_train)\n",
    "pred_rfc = clf.predict(new_test)\n",
    "score=ACCS(l_test, pred_rfc)\n",
    "print(\"Acc on test data\")\n",
    "print(score)\n",
    "print()\n",
    "clf = RandomForestClassifier(n_estimators = 100,max_depth=10,n_jobs=2,random_state=0)\n",
    "clf.fit(new_train, l_train)\n",
    "pred_rfc = clf.predict(new_test)\n",
    "score=ACCS(l_test, pred_rfc)\n",
    "print(\"Acc on test data\")\n",
    "print(score)\n",
    "print()\n",
    "\n",
    "#var = 20\n",
    "clf = RandomForestClassifier(n_estimators = 100,max_depth=20,n_jobs=2,random_state=0)\n",
    "clf.fit(new_train2, l_train)\n",
    "pred_rfc = clf.predict(new_test2)\n",
    "score=ACCS(l_test, pred_rfc)\n",
    "print(\"Acc on test data\")\n",
    "print(score)\n",
    "print()\n",
    "clf = RandomForestClassifier(n_estimators = 100,max_depth=30,n_jobs=2,random_state=0)\n",
    "clf.fit(new_train2, l_train)\n",
    "pred_rfc = clf.predict(new_test2)\n",
    "score=ACCS(l_test, pred_rfc)\n",
    "print(\"Acc on test data\")\n",
    "print(score)\n",
    "print()\n",
    "clf = RandomForestClassifier(n_estimators = 100,max_depth=10,n_jobs=2,random_state=0)\n",
    "clf.fit(new_train2, l_train)\n",
    "pred_rfc = clf.predict(new_test2)\n",
    "score=ACCS(l_test, pred_rfc)\n",
    "print(\"Acc on test data\")\n",
    "print(score)\n",
    "print()\n"
   ]
  },
  {
   "cell_type": "code",
   "execution_count": 10,
   "metadata": {},
   "outputs": [
    {
     "name": "stdout",
     "output_type": "stream",
     "text": [
      "\n"
     ]
    }
   ],
   "source": [
    "print()"
   ]
  },
  {
   "cell_type": "code",
   "execution_count": null,
   "metadata": {},
   "outputs": [],
   "source": []
  }
 ],
 "metadata": {
  "kernelspec": {
   "display_name": "Python 3",
   "language": "python",
   "name": "python3"
  },
  "language_info": {
   "codemirror_mode": {
    "name": "ipython",
    "version": 3
   },
   "file_extension": ".py",
   "mimetype": "text/x-python",
   "name": "python",
   "nbconvert_exporter": "python",
   "pygments_lexer": "ipython3",
   "version": "3.8.3"
  }
 },
 "nbformat": 4,
 "nbformat_minor": 4
}

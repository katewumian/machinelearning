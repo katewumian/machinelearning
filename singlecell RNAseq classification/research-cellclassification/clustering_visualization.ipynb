{
 "cells": [
  {
   "cell_type": "code",
   "execution_count": 4,
   "metadata": {},
   "outputs": [],
   "source": [
    "import seaborn as sns\n",
    "from sklearn.datasets import load_iris\n",
    "import pandas as pd\n",
    "import sklearn as sk\n",
    "import numpy as np\n",
    "from sklearn.feature_selection import VarianceThreshold  # 导入python的相关模块\n",
    "from sklearn.ensemble import RandomForestClassifier\n",
    "from sklearn.model_selection import cross_val_score\n",
    "\n",
    "from sklearn.metrics import accuracy_score as ACCS\n",
    "import pandas as pd\n",
    "from sklearn import tree\n",
    "from sklearn import decomposition\n",
    "from sklearn.metrics import confusion_matrix\n",
    "import matplotlib.pyplot as plt\n",
    "import numpy as np\n",
    "from sklearn.metrics import precision_score\n",
    "\n",
    "# open up a datastore\n",
    "store = pd.HDFStore('train_data.h5')\n",
    "store1 = pd.HDFStore('test_data.h5')\n",
    "# Get the feature matrix (samples and their features)\n",
    "feature_matrix_dataframe = store['rpkm']  # train的数据框架\n",
    "feature_matrix_dataframe_test = store1['rpkm']  # test的数据框架\n",
    "\n",
    "all_in = pd.concat([feature_matrix_dataframe, feature_matrix_dataframe_test], axis=0, join='inner')\n",
    "\n",
    "name = all_in.index.values  # 提取行标签\n",
    "\n",
    "data = all_in.values  # 提取数据丢掉标签（总和数据）\n",
    "sel = VarianceThreshold(threshold=15)  # 表示剔除特征的方差大于阈值15的feature\n",
    "new = sel.fit_transform(data)  # 返回的结果为选择的特征矩阵\n",
    "new_all = pd.DataFrame(new, index=name)  # 得到只剩下feature的新数据\n",
    "a = new_all.iloc[:5, 3]\n",
    "new_train = new_all.iloc[:21389, ]  # 新的train数据\n",
    "new_test = new_all.iloc[21389:, ]  # 新的test数据\n",
    "\n",
    "# 注意，新数据的gene序列（columns）被抹掉了，但是这不重要\n",
    "# 唯一的问题是所有的数据一起提取方差了\n",
    "\n",
    "\n",
    "# pca = decomposition.PCA(n_components=50)\n",
    "# new_train_afterPCA = pca.fit_transform(new_train.values)\n",
    "# new_test_afterPCA = pca.transform(new_test.values)\n",
    "# # 降维\n",
    "# new_train_afterPCA_da = pd.DataFrame(new_train_afterPCA, index=new_train.index.values)\n",
    "# new_test_afterPCA_da = pd.DataFrame(new_test_afterPCA, index=new_test.index.values)\n",
    "\n"
   ]
  },
  {
   "cell_type": "code",
   "execution_count": 35,
   "metadata": {},
   "outputs": [
    {
     "name": "stdout",
     "output_type": "stream",
     "text": [
      "(21389, 4717)\n",
      "Index(['45719_GSM1112514_SRR805197', '45719_GSM1112529_SRR805212',\n",
      "       '45719_GSM1112532_SRR805215', '45719_GSM1112537_SRR805220'],\n",
      "      dtype='object')\n",
      "[[0.         0.         8.28685414 0.        ]\n",
      " [0.         0.         8.07304696 0.        ]\n",
      " [0.         0.         1.40453445 0.        ]\n",
      " [0.         0.         3.46595404 0.        ]]\n",
      "(21389, 100)\n",
      "[[-1644.45010196  -306.65736335  -112.11573025  -759.28890118]\n",
      " [-1646.5551556   -309.06298546  -101.26363787 -1065.46731008]\n",
      " [-1643.3106197   -311.13903828  -124.5618827   -338.14525042]\n",
      " [-1639.34822554  -310.02828285  -128.49289264  -178.06815714]]\n",
      "(21389, 100)\n",
      "Index(['45719_GSM1112514_SRR805197', '45719_GSM1112529_SRR805212',\n",
      "       '45719_GSM1112532_SRR805215', '45719_GSM1112537_SRR805220'],\n",
      "      dtype='object')\n",
      "[[-1644.45010196  -306.65736335  -112.11573025  -759.28890118]\n",
      " [-1646.5551556   -309.06298546  -101.26363787 -1065.46731008]\n",
      " [-1643.3106197   -311.13903828  -124.5618827   -338.14525042]\n",
      " [-1639.34822554  -310.02828285  -128.49289264  -178.06815714]]\n"
     ]
    }
   ],
   "source": [
    "#Visualization\n",
    "print(new_train.shape)\n",
    "print(new_train.index[:4])\n",
    "print(new_train.values[:4, :4])\n",
    "\n",
    "pca = decomposition.PCA(n_components=100)\n",
    "new_train_afterPCA = pca.fit_transform(new_train.values)\n",
    "new_test_afterPCA = pca.transform(new_test.values)\n",
    "# 降维\n",
    "\n",
    "print(new_train_afterPCA.shape)\n",
    "print(new_train_afterPCA[:4, :4])\n",
    "\n",
    "new_train_afterPCA_da = pd.DataFrame(new_train_afterPCA, index=new_train.index.values)\n",
    "new_test_afterPCA_da = pd.DataFrame(new_test_afterPCA, index=new_test.index.values)\n",
    "\n",
    "\n",
    "print(new_train_afterPCA_da.shape)\n",
    "print(new_train_afterPCA_da.index[:4])\n",
    "print(new_train_afterPCA_da.values[:4, :4])\n",
    "\n",
    "# print(new_train_afterPCA_da.shape)\n",
    "# print(new_train_afterPCA_da.values[:4, :])\n",
    "# print(new_train_afterPCA[:4, :])"
   ]
  },
  {
   "cell_type": "code",
   "execution_count": null,
   "metadata": {},
   "outputs": [],
   "source": [
    "\n"
   ]
  },
  {
   "cell_type": "code",
   "execution_count": 38,
   "metadata": {},
   "outputs": [
    {
     "data": {
      "image/png": "[encoded data removed]",
      "text/plain": [
       "<Figure size 360x360 with 1 Axes>"
      ]
     },
     "metadata": {
      "needs_background": "light"
     },
     "output_type": "display_data"
    }
   ],
   "source": [
    "fig, ax = plt.subplots(1, figsize=(5,5))\n",
    "ax.scatter(new_train_afterPCA_da.values[:,-2], new_train_afterPCA_da.values[:,-1], s=1)\n",
    "ax.set_xlabel('PC1')\n",
    "ax.set_ylabel('PC2')\n",
    "ax.set_title('Cells Classification - PCA')\n",
    "\n",
    "fig.tight_layout()"
   ]
  }
 ],
 "metadata": {
  "kernelspec": {
   "display_name": "Python 3",
   "language": "python",
   "name": "python3"
  },
  "language_info": {
   "codemirror_mode": {
    "name": "ipython",
    "version": 3
   },
   "file_extension": ".py",
   "mimetype": "text/x-python",
   "name": "python",
   "nbconvert_exporter": "python",
   "pygments_lexer": "ipython3",
   "version": "3.7.4"
  }
 },
 "nbformat": 4,
 "nbformat_minor": 4
}
